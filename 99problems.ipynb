{
 "cells": [
  {
   "cell_type": "markdown",
   "metadata": {},
   "source": [
    "# 99 Problems\n",
    "\n",
    "## Problem 1\n",
    "\n",
    "Write a function `last : 'a list -> 'a option` that returns the last element of a list. (easy)"
   ]
  },
  {
   "cell_type": "code",
   "execution_count": 1,
   "metadata": {},
   "outputs": [
    {
     "data": {
      "text/plain": [
       "val last : 'a list -> 'a option = <fun>\n"
      ]
     },
     "execution_count": 1,
     "metadata": {},
     "output_type": "execute_result"
    }
   ],
   "source": [
    "let last (lst: 'a list) : 'a option =\n",
    "  let rec aux a =\n",
    "    match a with\n",
    "      | [] -> None\n",
    "      | [x] -> Some x\n",
    "      | hd :: tl -> aux tl\n",
    "  in aux lst ;;"
   ]
  },
  {
   "cell_type": "code",
   "execution_count": 2,
   "metadata": {},
   "outputs": [
    {
     "data": {
      "text/plain": [
       "- : string option = Some \"d\"\n"
      ]
     },
     "execution_count": 2,
     "metadata": {},
     "output_type": "execute_result"
    },
    {
     "data": {
      "text/plain": [
       "- : 'a option = None\n"
      ]
     },
     "execution_count": 2,
     "metadata": {},
     "output_type": "execute_result"
    }
   ],
   "source": [
    "(**** Tests ****)\n",
    "\n",
    "last [\"a\" ; \"b\" ; \"c\" ; \"d\"];;\n",
    "(* - : string option = Some \"d\" *)\n",
    "last [];;\n",
    "(* - : 'a option = None *)"
   ]
  },
  {
   "cell_type": "markdown",
   "metadata": {},
   "source": [
    "## Problem 2\n",
    "\n",
    "Find the last but one (last and penultimate) elements of a list. (easy)"
   ]
  },
  {
   "cell_type": "code",
   "execution_count": 3,
   "metadata": {},
   "outputs": [
    {
     "data": {
      "text/plain": [
       "val last_two : 'a list -> ('a * 'a) option = <fun>\n"
      ]
     },
     "execution_count": 3,
     "metadata": {},
     "output_type": "execute_result"
    }
   ],
   "source": [
    "let last_two (lst: 'a list) : ('a * 'a) option =\n",
    "  let rec aux lst = \n",
    "    match lst with\n",
    "    | [] -> None\n",
    "    | [x] -> None\n",
    "    | x :: y :: [] -> Some (x, y)\n",
    "    | hd :: tl -> aux tl\n",
    "  in aux lst"
   ]
  },
  {
   "cell_type": "code",
   "execution_count": 4,
   "metadata": {},
   "outputs": [
    {
     "data": {
      "text/plain": [
       "- : (string * string) option = Some (\"c\", \"d\")\n"
      ]
     },
     "execution_count": 4,
     "metadata": {},
     "output_type": "execute_result"
    },
    {
     "data": {
      "text/plain": [
       "- : (string * string) option = None\n"
      ]
     },
     "execution_count": 4,
     "metadata": {},
     "output_type": "execute_result"
    }
   ],
   "source": [
    "(**** Tests ****)\n",
    "\n",
    "last_two [\"a\"; \"b\"; \"c\"; \"d\"];;\n",
    "(* - : (string * string) option = Some (\"c\", \"d\") *)\n",
    "last_two [\"a\"];;\n",
    "(* - : (string * string) option = None *)"
   ]
  },
  {
   "cell_type": "markdown",
   "metadata": {},
   "source": [
    "## Problem 3\n",
    "\n",
    "Find the K'th element of a list. (easy)"
   ]
  },
  {
   "cell_type": "code",
   "execution_count": 5,
   "metadata": {},
   "outputs": [
    {
     "data": {
      "text/plain": [
       "val at : int -> 'a list -> 'a option = <fun>\n"
      ]
     },
     "execution_count": 5,
     "metadata": {},
     "output_type": "execute_result"
    }
   ],
   "source": [
    "let at (k: int) (lst: 'a list) : 'a option =\n",
    "  let rec aux i k lst =\n",
    "    match lst with\n",
    "    | [] -> None\n",
    "    | hd :: tl -> if i = k then Some hd else aux (i+1) k tl \n",
    "  in aux 1 k lst"
   ]
  },
  {
   "cell_type": "code",
   "execution_count": 6,
   "metadata": {},
   "outputs": [
    {
     "data": {
      "text/plain": [
       "- : string option = Some \"c\"\n"
      ]
     },
     "execution_count": 6,
     "metadata": {},
     "output_type": "execute_result"
    },
    {
     "data": {
      "text/plain": [
       "- : string option = None\n"
      ]
     },
     "execution_count": 6,
     "metadata": {},
     "output_type": "execute_result"
    }
   ],
   "source": [
    "(**** Tests ****)\n",
    "\n",
    "at 3 [\"a\"; \"b\"; \"c\"; \"d\"; \"e\"];;\n",
    "(* - : string option = Some \"c\" *)\n",
    "at 3 [\"a\"];;\n",
    "(* - : string option = None *)"
   ]
  },
  {
   "cell_type": "markdown",
   "metadata": {},
   "source": [
    "## Problem 4\n",
    "\n",
    "Find the number of elements of a list. *(easy)*\n",
    "\n",
    "OCaml standard library has `List.length` but we ask that you reimplement it. Bonus for a [**tail recursive**](http://en.wikipedia.org/wiki/Tail_call) solution."
   ]
  },
  {
   "cell_type": "code",
   "execution_count": 7,
   "metadata": {},
   "outputs": [
    {
     "data": {
      "text/plain": [
       "val length : 'a list -> int = <fun>\n"
      ]
     },
     "execution_count": 7,
     "metadata": {},
     "output_type": "execute_result"
    }
   ],
   "source": [
    "let length (lst: 'a list) : int =\n",
    "  let rec aux lst =\n",
    "    match lst with\n",
    "    | [] -> 0\n",
    "    | hd :: tl -> 1 + aux tl\n",
    "  in aux lst"
   ]
  },
  {
   "cell_type": "code",
   "execution_count": 8,
   "metadata": {},
   "outputs": [
    {
     "data": {
      "text/plain": [
       "- : int = 3\n"
      ]
     },
     "execution_count": 8,
     "metadata": {},
     "output_type": "execute_result"
    },
    {
     "data": {
      "text/plain": [
       "- : int = 0\n"
      ]
     },
     "execution_count": 8,
     "metadata": {},
     "output_type": "execute_result"
    }
   ],
   "source": [
    "(**** Tests ****)\n",
    "\n",
    "length [\"a\"; \"b\"; \"c\"];;\n",
    "(* - : int = 3 *)\n",
    "length [];;\n",
    "(* - : int = 0 *)"
   ]
  },
  {
   "cell_type": "markdown",
   "metadata": {},
   "source": [
    "## Problem 5\n",
    "\n",
    "Reverse a list. *(easy)*\n",
    "\n",
    "OCaml standard library has `List.rev` but we ask that you reimplement it."
   ]
  },
  {
   "cell_type": "code",
   "execution_count": 9,
   "metadata": {},
   "outputs": [
    {
     "data": {
      "text/plain": [
       "val reverse : 'a list -> 'a list = <fun>\n"
      ]
     },
     "execution_count": 9,
     "metadata": {},
     "output_type": "execute_result"
    }
   ],
   "source": [
    "let reverse (xs: 'a list) : 'a list =\n",
    "  let rec aux acc xs =\n",
    "    match xs with\n",
    "    | [] -> acc\n",
    "    | hd :: tl -> aux (hd :: acc) tl\n",
    "  in aux [] xs"
   ]
  },
  {
   "cell_type": "code",
   "execution_count": 10,
   "metadata": {},
   "outputs": [
    {
     "data": {
      "text/plain": [
       "- : string list = [\"c\"; \"b\"; \"a\"]\n"
      ]
     },
     "execution_count": 10,
     "metadata": {},
     "output_type": "execute_result"
    }
   ],
   "source": [
    "(**** Tests ****)\n",
    "\n",
    "reverse [\"a\"; \"b\"; \"c\"];;\n",
    "(* - : string list = [\"c\"; \"b\"; \"a\"] *)"
   ]
  },
  {
   "cell_type": "markdown",
   "metadata": {},
   "source": [
    "## Problem 6\n",
    "\n",
    "Find out whether a list is a palindrome. *(easy)*\n",
    "\n",
    "**HINT**: a palindrome is its own reverse."
   ]
  },
  {
   "cell_type": "code",
   "execution_count": 15,
   "metadata": {},
   "outputs": [
    {
     "name": "stderr",
     "output_type": "stream",
     "text": [
      "File \"[15]\", lines 3-5, characters 4-67:\n",
      "3 | ....match (xs, ys) with\n",
      "4 |     | ([], []) -> true\n",
      "5 |     | ((x :: xt), (y :: yt)) -> if x <> y then false else aux xt yt\n",
      "Warning 8 [partial-match]: this pattern-matching is not exhaustive.\n",
      "Here is an example of a case that is not matched:\n",
      "([], _::_)\n"
     ]
    },
    {
     "data": {
      "text/plain": [
       "val is_palindrome : 'a list -> bool = <fun>\n"
      ]
     },
     "execution_count": 15,
     "metadata": {},
     "output_type": "execute_result"
    }
   ],
   "source": [
    "let is_palindrome (xs: 'a list) : bool =\n",
    "  let rec aux xs ys = \n",
    "    match (xs, ys) with\n",
    "    | ([], []) -> true\n",
    "    | ((x :: xt), (y :: yt)) -> if x <> y then false else aux xt yt\n",
    "  in aux xs (reverse xs)"
   ]
  },
  {
   "cell_type": "code",
   "execution_count": 16,
   "metadata": {},
   "outputs": [
    {
     "data": {
      "text/plain": [
       "- : bool = true\n"
      ]
     },
     "execution_count": 16,
     "metadata": {},
     "output_type": "execute_result"
    },
    {
     "data": {
      "text/plain": [
       "- : bool = true\n"
      ]
     },
     "execution_count": 16,
     "metadata": {},
     "output_type": "execute_result"
    }
   ],
   "source": [
    "(**** Tests ****)\n",
    "\n",
    "is_palindrome [\"x\"; \"a\"; \"m\"; \"a\"; \"x\"];;\n",
    "(* - : bool = true *)\n",
    "not (is_palindrome [\"a\"; \"b\"]);;\n",
    "(* - : bool = true *)"
   ]
  },
  {
   "cell_type": "markdown",
   "metadata": {},
   "source": [
    "## Problem 7\n",
    "\n",
    "Flatten a nested list structure. *(medium)*"
   ]
  },
  {
   "cell_type": "code",
   "execution_count": 17,
   "metadata": {},
   "outputs": [
    {
     "data": {
      "text/plain": [
       "type 'a node = One of 'a | Many of 'a node list\n"
      ]
     },
     "execution_count": 17,
     "metadata": {},
     "output_type": "execute_result"
    }
   ],
   "source": [
    "(* There is no nested list type in OCaml, so we need to define one\n",
    "   first. A node of a nested list is either an element, or a list of\n",
    "   nodes. *)\n",
    "type 'a node =\n",
    "    | One of 'a \n",
    "    | Many of 'a node list;;"
   ]
  },
  {
   "cell_type": "code",
   "execution_count": 36,
   "metadata": {},
   "outputs": [
    {
     "data": {
      "text/plain": [
       "val flatten : 'a node list -> 'a list = <fun>\n"
      ]
     },
     "execution_count": 36,
     "metadata": {},
     "output_type": "execute_result"
    }
   ],
   "source": [
    "let flatten (lst: 'a node list) : 'a list =\n",
    "  let rec aux acc lst =\n",
    "    match lst with\n",
    "    | [] -> acc\n",
    "    | One x :: tl -> aux (x :: acc) tl\n",
    "    | Many xs :: tl -> aux (aux acc xs) tl\n",
    "  in List.rev (aux [] lst)"
   ]
  },
  {
   "cell_type": "code",
   "execution_count": 37,
   "metadata": {},
   "outputs": [
    {
     "data": {
      "text/plain": [
       "- : string list = [\"a\"; \"b\"; \"c\"; \"d\"; \"e\"]\n"
      ]
     },
     "execution_count": 37,
     "metadata": {},
     "output_type": "execute_result"
    }
   ],
   "source": [
    "(**** Tests ****)\n",
    "\n",
    "flatten [One \"a\"; Many [One \"b\"; Many [One \"c\" ;One \"d\"]; One \"e\"]];;\n",
    "(* - : string list = [\"a\"; \"b\"; \"c\"; \"d\"; \"e\"] *)"
   ]
  },
  {
   "cell_type": "markdown",
   "metadata": {},
   "source": [
    "## Problem 8\n",
    "\n",
    "Eliminate consecutive duplicates of list elements. *(medium)*"
   ]
  },
  {
   "cell_type": "code",
   "execution_count": 50,
   "metadata": {},
   "outputs": [
    {
     "data": {
      "text/plain": [
       "val compress : 'a list -> 'a list = <fun>\n"
      ]
     },
     "execution_count": 50,
     "metadata": {},
     "output_type": "execute_result"
    }
   ],
   "source": [
    "let compress (lst: 'a list) : 'a list =\n",
    "  let rec aux lst =\n",
    "    match lst with\n",
    "    | a :: (b :: _ as tl) -> if a = b then aux tl else a :: aux tl\n",
    "    | smaller -> smaller\n",
    "  in aux lst"
   ]
  },
  {
   "cell_type": "code",
   "execution_count": 51,
   "metadata": {},
   "outputs": [
    {
     "data": {
      "text/plain": [
       "- : string list = [\"a\"; \"b\"; \"c\"; \"a\"; \"d\"; \"e\"]\n"
      ]
     },
     "execution_count": 51,
     "metadata": {},
     "output_type": "execute_result"
    }
   ],
   "source": [
    "(**** Tests ****)\n",
    "\n",
    "compress [\"a\"; \"a\"; \"a\"; \"a\"; \"b\"; \"c\"; \"c\"; \"a\"; \"a\"; \"d\"; \"e\"; \"e\"; \"e\"; \"e\"];;\n",
    "(* - : string list = [\"a\"; \"b\"; \"c\"; \"a\"; \"d\"; \"e\"] *)"
   ]
  }
 ],
 "metadata": {
  "kernelspec": {
   "display_name": "OCaml 4.13.1",
   "language": "OCaml",
   "name": "ocaml-jupyter"
  },
  "language_info": {
   "codemirror_mode": "text/x-ocaml",
   "file_extension": ".ml",
   "mimetype": "text/x-ocaml",
   "name": "OCaml",
   "nbconverter_exporter": null,
   "pygments_lexer": "OCaml",
   "version": "4.13.1"
  },
  "orig_nbformat": 4
 },
 "nbformat": 4,
 "nbformat_minor": 2
}
