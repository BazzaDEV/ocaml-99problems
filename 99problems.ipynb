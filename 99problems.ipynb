{
 "cells": [
  {
   "cell_type": "markdown",
   "metadata": {},
   "source": [
    "# 99 Problems\n",
    "\n",
    "## Problem 1\n",
    "\n",
    "Write a function `last : 'a list -> 'a option` that returns the last element of a list. (easy)"
   ]
  },
  {
   "cell_type": "code",
   "execution_count": 1,
   "metadata": {},
   "outputs": [
    {
     "data": {
      "text/plain": [
       "val last : 'a list -> 'a option = <fun>\n"
      ]
     },
     "execution_count": 1,
     "metadata": {},
     "output_type": "execute_result"
    }
   ],
   "source": [
    "let last (lst: 'a list) : 'a option =\n",
    "  let rec aux a =\n",
    "    match a with\n",
    "      | [] -> None\n",
    "      | [x] -> Some x\n",
    "      | hd :: tl -> aux tl\n",
    "  in aux lst ;;"
   ]
  },
  {
   "cell_type": "code",
   "execution_count": 2,
   "metadata": {},
   "outputs": [
    {
     "data": {
      "text/plain": [
       "- : string option = Some \"d\"\n"
      ]
     },
     "execution_count": 2,
     "metadata": {},
     "output_type": "execute_result"
    },
    {
     "data": {
      "text/plain": [
       "- : 'a option = None\n"
      ]
     },
     "execution_count": 2,
     "metadata": {},
     "output_type": "execute_result"
    }
   ],
   "source": [
    "(**** Tests ****)\n",
    "\n",
    "last [\"a\" ; \"b\" ; \"c\" ; \"d\"];;\n",
    "(* - : string option = Some \"d\" *)\n",
    "last [];;\n",
    "(* - : 'a option = None *)"
   ]
  },
  {
   "cell_type": "markdown",
   "metadata": {},
   "source": [
    "## Problem 2\n",
    "\n",
    "Find the last but one (last and penultimate) elements of a list. (easy)"
   ]
  },
  {
   "cell_type": "code",
   "execution_count": 3,
   "metadata": {},
   "outputs": [
    {
     "data": {
      "text/plain": [
       "val last_two : 'a list -> ('a * 'a) option = <fun>\n"
      ]
     },
     "execution_count": 3,
     "metadata": {},
     "output_type": "execute_result"
    }
   ],
   "source": [
    "let last_two (lst: 'a list) : ('a * 'a) option =\n",
    "  let rec aux lst = \n",
    "    match lst with\n",
    "    | [] -> None\n",
    "    | [x] -> None\n",
    "    | x :: y :: [] -> Some (x, y)\n",
    "    | hd :: tl -> aux tl\n",
    "  in aux lst"
   ]
  },
  {
   "cell_type": "code",
   "execution_count": 4,
   "metadata": {},
   "outputs": [
    {
     "data": {
      "text/plain": [
       "- : (string * string) option = Some (\"c\", \"d\")\n"
      ]
     },
     "execution_count": 4,
     "metadata": {},
     "output_type": "execute_result"
    },
    {
     "data": {
      "text/plain": [
       "- : (string * string) option = None\n"
      ]
     },
     "execution_count": 4,
     "metadata": {},
     "output_type": "execute_result"
    }
   ],
   "source": [
    "(**** Tests ****)\n",
    "\n",
    "last_two [\"a\"; \"b\"; \"c\"; \"d\"];;\n",
    "(* - : (string * string) option = Some (\"c\", \"d\") *)\n",
    "last_two [\"a\"];;\n",
    "(* - : (string * string) option = None *)"
   ]
  },
  {
   "cell_type": "markdown",
   "metadata": {},
   "source": [
    "## Problem 3\n",
    "\n",
    "Find the K'th element of a list. (easy)"
   ]
  },
  {
   "cell_type": "code",
   "execution_count": 5,
   "metadata": {},
   "outputs": [
    {
     "data": {
      "text/plain": [
       "val at : int -> 'a list -> 'a option = <fun>\n"
      ]
     },
     "execution_count": 5,
     "metadata": {},
     "output_type": "execute_result"
    }
   ],
   "source": [
    "let at (k: int) (lst: 'a list) : 'a option =\n",
    "  let rec aux i k lst =\n",
    "    match lst with\n",
    "    | [] -> None\n",
    "    | hd :: tl -> if i = k then Some hd else aux (i+1) k tl \n",
    "  in aux 1 k lst"
   ]
  },
  {
   "cell_type": "code",
   "execution_count": 6,
   "metadata": {},
   "outputs": [
    {
     "data": {
      "text/plain": [
       "- : string option = Some \"c\"\n"
      ]
     },
     "execution_count": 6,
     "metadata": {},
     "output_type": "execute_result"
    },
    {
     "data": {
      "text/plain": [
       "- : string option = None\n"
      ]
     },
     "execution_count": 6,
     "metadata": {},
     "output_type": "execute_result"
    }
   ],
   "source": [
    "(**** Tests ****)\n",
    "\n",
    "at 3 [\"a\"; \"b\"; \"c\"; \"d\"; \"e\"];;\n",
    "(* - : string option = Some \"c\" *)\n",
    "at 3 [\"a\"];;\n",
    "(* - : string option = None *)"
   ]
  },
  {
   "cell_type": "markdown",
   "metadata": {},
   "source": [
    "## Problem 4\n",
    "\n",
    "Find the number of elements of a list. *(easy)*\n",
    "\n",
    "OCaml standard library has `List.length` but we ask that you reimplement it. Bonus for a [**tail recursive**](http://en.wikipedia.org/wiki/Tail_call) solution."
   ]
  },
  {
   "cell_type": "code",
   "execution_count": 7,
   "metadata": {},
   "outputs": [
    {
     "data": {
      "text/plain": [
       "val length : 'a list -> int = <fun>\n"
      ]
     },
     "execution_count": 7,
     "metadata": {},
     "output_type": "execute_result"
    }
   ],
   "source": [
    "let length (lst: 'a list) : int =\n",
    "  let rec aux lst =\n",
    "    match lst with\n",
    "    | [] -> 0\n",
    "    | hd :: tl -> 1 + aux tl\n",
    "  in aux lst"
   ]
  },
  {
   "cell_type": "code",
   "execution_count": 8,
   "metadata": {},
   "outputs": [
    {
     "data": {
      "text/plain": [
       "- : int = 3\n"
      ]
     },
     "execution_count": 8,
     "metadata": {},
     "output_type": "execute_result"
    },
    {
     "data": {
      "text/plain": [
       "- : int = 0\n"
      ]
     },
     "execution_count": 8,
     "metadata": {},
     "output_type": "execute_result"
    }
   ],
   "source": [
    "(**** Tests ****)\n",
    "\n",
    "length [\"a\"; \"b\"; \"c\"];;\n",
    "(* - : int = 3 *)\n",
    "length [];;\n",
    "(* - : int = 0 *)"
   ]
  },
  {
   "cell_type": "markdown",
   "metadata": {},
   "source": [
    "## Problem 5\n",
    "\n",
    "Reverse a list. *(easy)*\n",
    "\n",
    "OCaml standard library has `List.rev` but we ask that you reimplement it."
   ]
  },
  {
   "cell_type": "code",
   "execution_count": 9,
   "metadata": {},
   "outputs": [
    {
     "data": {
      "text/plain": [
       "val reverse : 'a list -> 'a list = <fun>\n"
      ]
     },
     "execution_count": 9,
     "metadata": {},
     "output_type": "execute_result"
    }
   ],
   "source": [
    "let reverse (xs: 'a list) : 'a list =\n",
    "  let rec aux acc xs =\n",
    "    match xs with\n",
    "    | [] -> acc\n",
    "    | hd :: tl -> aux (hd :: acc) tl\n",
    "  in aux [] xs"
   ]
  },
  {
   "cell_type": "code",
   "execution_count": 10,
   "metadata": {},
   "outputs": [
    {
     "data": {
      "text/plain": [
       "- : string list = [\"c\"; \"b\"; \"a\"]\n"
      ]
     },
     "execution_count": 10,
     "metadata": {},
     "output_type": "execute_result"
    }
   ],
   "source": [
    "(**** Tests ****)\n",
    "\n",
    "reverse [\"a\"; \"b\"; \"c\"];;\n",
    "(* - : string list = [\"c\"; \"b\"; \"a\"] *)"
   ]
  },
  {
   "cell_type": "markdown",
   "metadata": {},
   "source": [
    "## Problem 6\n",
    "\n",
    "Find out whether a list is a palindrome. *(easy)*\n",
    "\n",
    "**HINT**: a palindrome is its own reverse."
   ]
  },
  {
   "cell_type": "code",
   "execution_count": 15,
   "metadata": {},
   "outputs": [
    {
     "name": "stderr",
     "output_type": "stream",
     "text": [
      "File \"[15]\", lines 3-5, characters 4-67:\n",
      "3 | ....match (xs, ys) with\n",
      "4 |     | ([], []) -> true\n",
      "5 |     | ((x :: xt), (y :: yt)) -> if x <> y then false else aux xt yt\n",
      "Warning 8 [partial-match]: this pattern-matching is not exhaustive.\n",
      "Here is an example of a case that is not matched:\n",
      "([], _::_)\n"
     ]
    },
    {
     "data": {
      "text/plain": [
       "val is_palindrome : 'a list -> bool = <fun>\n"
      ]
     },
     "execution_count": 15,
     "metadata": {},
     "output_type": "execute_result"
    }
   ],
   "source": [
    "let is_palindrome (xs: 'a list) : bool =\n",
    "  let rec aux xs ys = \n",
    "    match (xs, ys) with\n",
    "    | ([], []) -> true\n",
    "    | ((x :: xt), (y :: yt)) -> if x <> y then false else aux xt yt\n",
    "  in aux xs (reverse xs)"
   ]
  },
  {
   "cell_type": "code",
   "execution_count": 16,
   "metadata": {},
   "outputs": [
    {
     "data": {
      "text/plain": [
       "- : bool = true\n"
      ]
     },
     "execution_count": 16,
     "metadata": {},
     "output_type": "execute_result"
    },
    {
     "data": {
      "text/plain": [
       "- : bool = true\n"
      ]
     },
     "execution_count": 16,
     "metadata": {},
     "output_type": "execute_result"
    }
   ],
   "source": [
    "(**** Tests ****)\n",
    "\n",
    "is_palindrome [\"x\"; \"a\"; \"m\"; \"a\"; \"x\"];;\n",
    "(* - : bool = true *)\n",
    "not (is_palindrome [\"a\"; \"b\"]);;\n",
    "(* - : bool = true *)"
   ]
  },
  {
   "cell_type": "markdown",
   "metadata": {},
   "source": [
    "## Problem 7\n",
    "\n",
    "Flatten a nested list structure. *(medium)*"
   ]
  },
  {
   "cell_type": "code",
   "execution_count": 17,
   "metadata": {},
   "outputs": [
    {
     "data": {
      "text/plain": [
       "type 'a node = One of 'a | Many of 'a node list\n"
      ]
     },
     "execution_count": 17,
     "metadata": {},
     "output_type": "execute_result"
    }
   ],
   "source": [
    "(* There is no nested list type in OCaml, so we need to define one\n",
    "   first. A node of a nested list is either an element, or a list of\n",
    "   nodes. *)\n",
    "type 'a node =\n",
    "    | One of 'a \n",
    "    | Many of 'a node list;;"
   ]
  },
  {
   "cell_type": "code",
   "execution_count": 36,
   "metadata": {},
   "outputs": [
    {
     "data": {
      "text/plain": [
       "val flatten : 'a node list -> 'a list = <fun>\n"
      ]
     },
     "execution_count": 36,
     "metadata": {},
     "output_type": "execute_result"
    }
   ],
   "source": [
    "let flatten (lst: 'a node list) : 'a list =\n",
    "  let rec aux acc lst =\n",
    "    match lst with\n",
    "    | [] -> acc\n",
    "    | One x :: tl -> aux (x :: acc) tl\n",
    "    | Many xs :: tl -> aux (aux acc xs) tl\n",
    "  in List.rev (aux [] lst)"
   ]
  },
  {
   "cell_type": "code",
   "execution_count": 37,
   "metadata": {},
   "outputs": [
    {
     "data": {
      "text/plain": [
       "- : string list = [\"a\"; \"b\"; \"c\"; \"d\"; \"e\"]\n"
      ]
     },
     "execution_count": 37,
     "metadata": {},
     "output_type": "execute_result"
    }
   ],
   "source": [
    "(**** Tests ****)\n",
    "\n",
    "flatten [One \"a\"; Many [One \"b\"; Many [One \"c\" ;One \"d\"]; One \"e\"]];;\n",
    "(* - : string list = [\"a\"; \"b\"; \"c\"; \"d\"; \"e\"] *)"
   ]
  },
  {
   "cell_type": "markdown",
   "metadata": {},
   "source": [
    "## Problem 8\n",
    "\n",
    "Eliminate consecutive duplicates of list elements. *(medium)*"
   ]
  },
  {
   "cell_type": "code",
   "execution_count": 50,
   "metadata": {},
   "outputs": [
    {
     "data": {
      "text/plain": [
       "val compress : 'a list -> 'a list = <fun>\n"
      ]
     },
     "execution_count": 50,
     "metadata": {},
     "output_type": "execute_result"
    }
   ],
   "source": [
    "let compress (lst: 'a list) : 'a list =\n",
    "  let rec aux lst =\n",
    "    match lst with\n",
    "    | a :: (b :: _ as tl) -> if a = b then aux tl else a :: aux tl\n",
    "    | smaller -> smaller\n",
    "  in aux lst"
   ]
  },
  {
   "cell_type": "code",
   "execution_count": 51,
   "metadata": {},
   "outputs": [
    {
     "data": {
      "text/plain": [
       "- : string list = [\"a\"; \"b\"; \"c\"; \"a\"; \"d\"; \"e\"]\n"
      ]
     },
     "execution_count": 51,
     "metadata": {},
     "output_type": "execute_result"
    }
   ],
   "source": [
    "(**** Tests ****)\n",
    "\n",
    "compress [\"a\"; \"a\"; \"a\"; \"a\"; \"b\"; \"c\"; \"c\"; \"a\"; \"a\"; \"d\"; \"e\"; \"e\"; \"e\"; \"e\"];;\n",
    "(* - : string list = [\"a\"; \"b\"; \"c\"; \"a\"; \"d\"; \"e\"] *)"
   ]
  },
  {
   "cell_type": "markdown",
   "metadata": {},
   "source": [
    "## Problem 9\n",
    "\n",
    "Pack consecutive duplicates of list elements into sublists. *(medium)*"
   ]
  },
  {
   "cell_type": "code",
   "execution_count": 39,
   "metadata": {},
   "outputs": [
    {
     "data": {
      "text/plain": [
       "val pack : 'a list -> 'a list list = <fun>\n"
      ]
     },
     "execution_count": 39,
     "metadata": {},
     "output_type": "execute_result"
    }
   ],
   "source": [
    "let pack (lst: 'a list) : 'a list list = (* a a a b *)\n",
    "  let rec aux acc res lst =\n",
    "    match lst with\n",
    "    | [] -> res\n",
    "    | [a] -> (a :: acc) :: res\n",
    "    | a :: (b :: _ as tl) ->\n",
    "      begin if a = b then \n",
    "        aux (a :: acc) res tl \n",
    "      else \n",
    "        aux [] ((a :: acc) :: res) tl\n",
    "      end\n",
    "  in List.rev (aux [] [] lst)"
   ]
  },
  {
   "cell_type": "code",
   "execution_count": 40,
   "metadata": {},
   "outputs": [
    {
     "data": {
      "text/plain": [
       "- : string list list =\n",
       "[[\"a\"; \"a\"; \"a\"; \"a\"]; [\"b\"]; [\"c\"; \"c\"]; [\"a\"; \"a\"]; [\"d\"; \"d\"];\n",
       " [\"e\"; \"e\"; \"e\"; \"e\"]]\n"
      ]
     },
     "execution_count": 40,
     "metadata": {},
     "output_type": "execute_result"
    }
   ],
   "source": [
    "(**** Tests ****)\n",
    "\n",
    "pack [\"a\"; \"a\"; \"a\"; \"a\"; \"b\"; \"c\"; \"c\"; \"a\"; \"a\"; \"d\"; \"d\"; \"e\"; \"e\"; \"e\"; \"e\"];;\n",
    "(* - : string list list =\n",
    "[[\"a\"; \"a\"; \"a\"; \"a\"]; [\"b\"]; [\"c\"; \"c\"]; [\"a\"; \"a\"]; [\"d\"; \"d\"]; [\"e\"; \"e\"; \"e\"; \"e\"]] *)"
   ]
  },
  {
   "cell_type": "markdown",
   "metadata": {},
   "source": [
    "## Problem 10\n",
    "\n",
    "Run-length encoding of a list. *(easy)*"
   ]
  },
  {
   "cell_type": "code",
   "execution_count": 41,
   "metadata": {},
   "outputs": [
    {
     "data": {
      "text/plain": [
       "val encode : 'a list -> (int * 'a) list = <fun>\n"
      ]
     },
     "execution_count": 41,
     "metadata": {},
     "output_type": "execute_result"
    }
   ],
   "source": [
    "let encode (lst: 'a list) : (int * 'a) list =\n",
    "  let rec aux acc res lst =\n",
    "    match lst with\n",
    "    | [] -> res (* only reached if original list is empty *)\n",
    "    | [a] -> (acc + 1, a) :: res\n",
    "    | a :: (b :: _ as tl) -> \n",
    "      if a = b then aux (acc + 1) res tl\n",
    "      else aux 0 ((acc + 1, a) :: res) tl\n",
    "\n",
    "  in List.rev (aux 0 [] lst)"
   ]
  },
  {
   "cell_type": "code",
   "execution_count": 42,
   "metadata": {},
   "outputs": [
    {
     "data": {
      "text/plain": [
       "- : (int * string) list =\n",
       "[(4, \"a\"); (1, \"b\"); (2, \"c\"); (2, \"a\"); (1, \"d\"); (4, \"e\")]\n"
      ]
     },
     "execution_count": 42,
     "metadata": {},
     "output_type": "execute_result"
    }
   ],
   "source": [
    "encode [\"a\"; \"a\"; \"a\"; \"a\"; \"b\"; \"c\"; \"c\"; \"a\"; \"a\"; \"d\"; \"e\"; \"e\"; \"e\"; \"e\"];;\n",
    "(* - : (int * string) list =\n",
    "[(4, \"a\"); (1, \"b\"); (2, \"c\"); (2, \"a\"); (1, \"d\"); (4, \"e\")] *)"
   ]
  },
  {
   "cell_type": "markdown",
   "metadata": {},
   "source": [
    "## Problem 11\n",
    "\n",
    "Modified run-length encoding. *(easy)*\n",
    "\n",
    "Modify the result of the previous problem in such a way that if an element has no duplicates it is simply copied into the result list. Only elements with duplicates are transferred as (N E) lists.\n",
    "\n",
    "Since OCaml lists are homogeneous, one needs to define a type to hold both single elements and sub-lists:"
   ]
  },
  {
   "cell_type": "code",
   "execution_count": 23,
   "metadata": {},
   "outputs": [
    {
     "data": {
      "text/plain": [
       "type 'a rle = One of 'a | Many of int * 'a\n"
      ]
     },
     "execution_count": 23,
     "metadata": {},
     "output_type": "execute_result"
    }
   ],
   "source": [
    "type 'a rle =\n",
    "    | One of 'a\n",
    "    | Many of int * 'a;;\n",
    "(* type 'a rle = One of 'a | Many of int * 'a *)"
   ]
  },
  {
   "cell_type": "code",
   "execution_count": 24,
   "metadata": {},
   "outputs": [
    {
     "data": {
      "text/plain": [
       "val encode : 'a list -> 'a rle list = <fun>\n"
      ]
     },
     "execution_count": 24,
     "metadata": {},
     "output_type": "execute_result"
    }
   ],
   "source": [
    "let encode (lst: 'a list) : ('a rle) list =\n",
    "  let to_rle n e =\n",
    "    match n with\n",
    "    | 1 -> One e\n",
    "    | _ -> Many (n, e) in\n",
    "  let rec aux acc res lst =\n",
    "    match lst with\n",
    "    | [] -> res (* only reached if original list is empty *)\n",
    "    | [a] -> (to_rle (acc + 1) a) :: res\n",
    "    | a :: (b :: _ as tl) -> \n",
    "      if a = b then aux (acc + 1) res tl\n",
    "      else aux 0 ((to_rle (acc + 1) a) :: res) tl\n",
    "\n",
    "  in List.rev (aux 0 [] lst)"
   ]
  },
  {
   "cell_type": "code",
   "execution_count": 25,
   "metadata": {},
   "outputs": [
    {
     "data": {
      "text/plain": [
       "- : string rle list =\n",
       "[Many (4, \"a\"); One \"b\"; Many (2, \"c\"); Many (2, \"a\"); One \"d\";\n",
       " Many (4, \"e\")]\n"
      ]
     },
     "execution_count": 25,
     "metadata": {},
     "output_type": "execute_result"
    }
   ],
   "source": [
    "(**** Tests ****)\n",
    "\n",
    "encode [\"a\"; \"a\"; \"a\"; \"a\"; \"b\"; \"c\"; \"c\"; \"a\"; \"a\"; \"d\"; \"e\"; \"e\"; \"e\"; \"e\"];;\n",
    "(* - : string rle list =\n",
    "[Many (4, \"a\"); One \"b\"; Many (2, \"c\"); Many (2, \"a\"); One \"d\"; Many (4, \"e\")] *)"
   ]
  },
  {
   "cell_type": "markdown",
   "metadata": {},
   "source": [
    "## Problem 12\n",
    "\n",
    "Decode a run-length encoded list. *(medium)*\n",
    "\n",
    "Given a run-length code list generated as specified in the previous problem, construct its uncompressed version."
   ]
  },
  {
   "cell_type": "code",
   "execution_count": 26,
   "metadata": {},
   "outputs": [
    {
     "data": {
      "text/plain": [
       "val dup : int -> 'a -> 'a list = <fun>\n"
      ]
     },
     "execution_count": 26,
     "metadata": {},
     "output_type": "execute_result"
    },
    {
     "data": {
      "text/plain": [
       "val decode : 'a rle list -> 'a list = <fun>\n"
      ]
     },
     "execution_count": 26,
     "metadata": {},
     "output_type": "execute_result"
    }
   ],
   "source": [
    "let rec dup (n: int) (e: 'a) : 'a list =\n",
    "  match n with\n",
    "  | 0 -> [] (* Only reachable if original n is 0 *)\n",
    "  | 1 -> [e]\n",
    "  | _ -> e :: dup (n-1) e\n",
    "\n",
    "let decode (lst: ('a rle) list) : 'a list =\n",
    "  let rec aux acc lst =\n",
    "    match lst with\n",
    "    | [] -> acc (* Only reachable if original list is empty *)\n",
    "    | One e :: tl -> aux (e :: acc) tl\n",
    "    | Many (n, e) :: tl -> aux (dup n e @ acc) tl\n",
    "  in List.rev (aux [] lst)"
   ]
  },
  {
   "cell_type": "code",
   "execution_count": 27,
   "metadata": {},
   "outputs": [
    {
     "data": {
      "text/plain": [
       "- : string list =\n",
       "[\"a\"; \"a\"; \"a\"; \"a\"; \"b\"; \"c\"; \"c\"; \"a\"; \"a\"; \"d\"; \"e\"; \"e\"; \"e\"; \"e\"]\n"
      ]
     },
     "execution_count": 27,
     "metadata": {},
     "output_type": "execute_result"
    }
   ],
   "source": [
    "(**** Tests ****)\n",
    "\n",
    "decode [Many (4, \"a\"); One \"b\"; Many (2, \"c\"); Many (2, \"a\"); One \"d\"; Many (4, \"e\")];;\n",
    "(* - : string list =\n",
    "[\"a\"; \"a\"; \"a\"; \"a\"; \"b\"; \"c\"; \"c\"; \"a\"; \"a\"; \"d\"; \"e\"; \"e\"; \"e\"; \"e\"] *)"
   ]
  },
  {
   "cell_type": "markdown",
   "metadata": {},
   "source": [
    "## Problem 13\n",
    "\n",
    "Run-length encoding of a list (direct solution). *(medium)*\n",
    "\n",
    "Implement the so-called run-length encoding data compression method directly. I.e. don't explicitly create the sublists containing the duplicates, as in problem [\"Pack consecutive duplicates of list elements into sublists\"](#problem-9), but only count them. As in problem [\"Modified run-length encoding\"](#problem-11), simplify the result list by replacing the singleton lists (1 X) by X."
   ]
  },
  {
   "cell_type": "code",
   "execution_count": 28,
   "metadata": {},
   "outputs": [],
   "source": [
    "(* Already did this in Problem 11. *)"
   ]
  },
  {
   "cell_type": "code",
   "execution_count": 29,
   "metadata": {},
   "outputs": [
    {
     "data": {
      "text/plain": [
       "- : string rle list =\n",
       "[Many (4, \"a\"); One \"b\"; Many (2, \"c\"); Many (2, \"a\"); One \"d\";\n",
       " Many (4, \"e\")]\n"
      ]
     },
     "execution_count": 29,
     "metadata": {},
     "output_type": "execute_result"
    }
   ],
   "source": [
    "(**** Tests ****)\n",
    "\n",
    "encode [\"a\";\"a\";\"a\";\"a\";\"b\";\"c\";\"c\";\"a\";\"a\";\"d\";\"e\";\"e\";\"e\";\"e\"];;\n",
    "(* - : string rle list =\n",
    "[Many (4, \"a\"); One \"b\"; Many (2, \"c\"); Many (2, \"a\"); One \"d\";\n",
    " Many (4, \"e\")] *)"
   ]
  },
  {
   "cell_type": "markdown",
   "metadata": {},
   "source": [
    "## Problem 14\n",
    "\n",
    "Duplicate the elements of a list. *(easy)*"
   ]
  },
  {
   "cell_type": "code",
   "execution_count": 22,
   "metadata": {},
   "outputs": [
    {
     "data": {
      "text/plain": [
       "val duplicate : 'a list -> 'a list = <fun>\n"
      ]
     },
     "execution_count": 22,
     "metadata": {},
     "output_type": "execute_result"
    }
   ],
   "source": [
    "let duplicate (lst: 'a list) : 'a list =\n",
    "  let rec aux lst=\n",
    "    match lst with\n",
    "    | [] -> []\n",
    "    | hd :: tl -> hd :: (hd :: aux tl)\n",
    "in aux lst"
   ]
  },
  {
   "cell_type": "code",
   "execution_count": 23,
   "metadata": {},
   "outputs": [
    {
     "data": {
      "text/plain": [
       "- : string list = [\"a\"; \"a\"; \"b\"; \"b\"; \"c\"; \"c\"; \"c\"; \"c\"; \"d\"; \"d\"]\n"
      ]
     },
     "execution_count": 23,
     "metadata": {},
     "output_type": "execute_result"
    }
   ],
   "source": [
    "(**** Tests ****)\n",
    "\n",
    "duplicate [\"a\"; \"b\"; \"c\"; \"c\"; \"d\"];;\n",
    "(* - : string list = [\"a\"; \"a\"; \"b\"; \"b\"; \"c\"; \"c\"; \"c\"; \"c\"; \"d\"; \"d\"] *)"
   ]
  },
  {
   "cell_type": "markdown",
   "metadata": {},
   "source": [
    "## Problem 15\n",
    "\n",
    "Replicate the elements of a list a given number of times. *(medium)*"
   ]
  },
  {
   "cell_type": "code",
   "execution_count": 24,
   "metadata": {},
   "outputs": [
    {
     "data": {
      "text/plain": [
       "val replicate : 'a list -> int -> 'a list = <fun>\n"
      ]
     },
     "execution_count": 24,
     "metadata": {},
     "output_type": "execute_result"
    }
   ],
   "source": [
    "let replicate (lst: 'a list) (k: int) : 'a list =\n",
    "  let rec aux count lst =\n",
    "    match count, lst with\n",
    "    | _, [] -> []\n",
    "    | 1, hd :: tl -> hd :: aux k tl\n",
    "    | _, hd :: _ -> hd :: aux (count - 1) lst\n",
    "  in aux k lst"
   ]
  },
  {
   "cell_type": "code",
   "execution_count": 25,
   "metadata": {},
   "outputs": [
    {
     "data": {
      "text/plain": [
       "- : string list = [\"a\"; \"a\"; \"a\"; \"b\"; \"b\"; \"b\"; \"c\"; \"c\"; \"c\"]\n"
      ]
     },
     "execution_count": 25,
     "metadata": {},
     "output_type": "execute_result"
    }
   ],
   "source": [
    "(**** Tests ****)\n",
    "\n",
    "replicate [\"a\"; \"b\"; \"c\"] 3;;\n",
    "(* - : string list = [\"a\"; \"a\"; \"a\"; \"b\"; \"b\"; \"b\"; \"c\"; \"c\"; \"c\"] *)"
   ]
  },
  {
   "cell_type": "markdown",
   "metadata": {},
   "source": [
    "## Problem 16\n",
    "\n",
    "Drop every N'th element from a list. *(medium)*"
   ]
  },
  {
   "cell_type": "code",
   "execution_count": 26,
   "metadata": {},
   "outputs": [
    {
     "data": {
      "text/plain": [
       "val drop : 'a list -> int -> 'a list = <fun>\n"
      ]
     },
     "execution_count": 26,
     "metadata": {},
     "output_type": "execute_result"
    }
   ],
   "source": [
    "let drop (lst: 'a list) (n: int) : 'a list =\n",
    "  let rec aux i lst =\n",
    "    match lst with\n",
    "    | [] -> []\n",
    "    | hd :: tl -> if i = n then aux 1 tl else hd :: aux (i + 1) tl\n",
    "  in aux 1 lst"
   ]
  },
  {
   "cell_type": "code",
   "execution_count": 27,
   "metadata": {},
   "outputs": [
    {
     "data": {
      "text/plain": [
       "- : string list = [\"a\"; \"b\"; \"d\"; \"e\"; \"g\"; \"h\"; \"j\"]\n"
      ]
     },
     "execution_count": 27,
     "metadata": {},
     "output_type": "execute_result"
    }
   ],
   "source": [
    "(**** Tests ****)\n",
    "\n",
    "drop [\"a\"; \"b\"; \"c\"; \"d\"; \"e\"; \"f\"; \"g\"; \"h\"; \"i\"; \"j\"] 3;;\n",
    "(* - : string list = [\"a\"; \"b\"; \"d\"; \"e\"; \"g\"; \"h\"; \"j\"] *)"
   ]
  },
  {
   "cell_type": "markdown",
   "metadata": {},
   "source": [
    "## Problem 17\n",
    "\n",
    "Split a list into two parts; the length of the first part is given. *(easy)*\n",
    "\n",
    "If the length of the first part is longer than the entire list, then the first part is the list and the second part is empty."
   ]
  },
  {
   "cell_type": "code",
   "execution_count": 28,
   "metadata": {},
   "outputs": [
    {
     "data": {
      "text/plain": [
       "val split : 'a list -> int -> 'a list * 'a list = <fun>\n"
      ]
     },
     "execution_count": 28,
     "metadata": {},
     "output_type": "execute_result"
    }
   ],
   "source": [
    "let split (lst: 'a list) (len: int) : 'a list * 'a list =\n",
    "  let rec aux i acc lst =\n",
    "    match lst with\n",
    "    | [] -> (List.rev acc, [])\n",
    "    | hd :: tl -> if i = 0 then (List.rev acc, hd :: tl) else aux (i - 1) (hd :: acc) tl\n",
    "  in aux len [] lst"
   ]
  },
  {
   "cell_type": "code",
   "execution_count": 29,
   "metadata": {},
   "outputs": [
    {
     "data": {
      "text/plain": [
       "- : string list * string list =\n",
       "([\"a\"; \"b\"; \"c\"], [\"d\"; \"e\"; \"f\"; \"g\"; \"h\"; \"i\"; \"j\"])\n"
      ]
     },
     "execution_count": 29,
     "metadata": {},
     "output_type": "execute_result"
    },
    {
     "data": {
      "text/plain": [
       "- : string list * string list = ([\"a\"; \"b\"; \"c\"; \"d\"], [])\n"
      ]
     },
     "execution_count": 29,
     "metadata": {},
     "output_type": "execute_result"
    }
   ],
   "source": [
    "(**** Tests ****)\n",
    "\n",
    "split [\"a\"; \"b\"; \"c\"; \"d\"; \"e\"; \"f\"; \"g\"; \"h\"; \"i\"; \"j\"] 3;;\n",
    "(* - : string list * string list =\n",
    "([\"a\"; \"b\"; \"c\"], [\"d\"; \"e\"; \"f\"; \"g\"; \"h\"; \"i\"; \"j\"]) *)\n",
    "split [\"a\"; \"b\"; \"c\"; \"d\"] 5;;\n",
    "(* - : string list * string list = ([\"a\"; \"b\"; \"c\"; \"d\"], []) *)"
   ]
  },
  {
   "cell_type": "markdown",
   "metadata": {},
   "source": [
    "## Problem 18\n",
    "\n",
    "Extract a slice from a list. *(medium)*\n",
    "\n",
    "Given two indices, `i` and `k`, the slice is the list containing the elements between the `i`'th and `k`'th element of the original list (both limits included). Start counting the elements with 0 (this is the way the `List` module numbers elements)."
   ]
  },
  {
   "cell_type": "code",
   "execution_count": 92,
   "metadata": {},
   "outputs": [
    {
     "data": {
      "text/plain": [
       "val slice : 'a list -> int -> int -> 'a list = <fun>\n"
      ]
     },
     "execution_count": 92,
     "metadata": {},
     "output_type": "execute_result"
    }
   ],
   "source": [
    "let slice (lst: 'a list) (i: int) (k: int) : 'a list =\n",
    "  let rec aux lst j =\n",
    "    match lst with\n",
    "    | [] -> []\n",
    "    | hd :: tl -> \n",
    "      if j < i then \n",
    "        aux tl (j + 1)\n",
    "      else if j >= i && j <= k then\n",
    "        hd :: aux tl (j + 1)\n",
    "      else []\n",
    "    in aux lst 0"
   ]
  },
  {
   "cell_type": "code",
   "execution_count": 93,
   "metadata": {},
   "outputs": [
    {
     "data": {
      "text/plain": [
       "- : string list = [\"c\"; \"d\"; \"e\"; \"f\"; \"g\"]\n"
      ]
     },
     "execution_count": 93,
     "metadata": {},
     "output_type": "execute_result"
    }
   ],
   "source": [
    "(**** Tests ****)\n",
    "\n",
    "slice [\"a\"; \"b\"; \"c\"; \"d\"; \"e\"; \"f\"; \"g\"; \"h\"; \"i\"; \"j\"] 2 6;;\n",
    "(* - : string list = [\"c\"; \"d\"; \"e\"; \"f\"; \"g\"] *)"
   ]
  },
  {
   "cell_type": "markdown",
   "metadata": {},
   "source": [
    "## Problem 19\n",
    "\n",
    "Rotate a list N places to the left. *(medium)*"
   ]
  },
  {
   "cell_type": "code",
   "execution_count": 94,
   "metadata": {},
   "outputs": [
    {
     "data": {
      "text/plain": [
       "val length : 'a list -> int = <fun>\n"
      ]
     },
     "execution_count": 94,
     "metadata": {},
     "output_type": "execute_result"
    },
    {
     "data": {
      "text/plain": [
       "val rotate : 'a list -> int -> 'a list = <fun>\n"
      ]
     },
     "execution_count": 94,
     "metadata": {},
     "output_type": "execute_result"
    }
   ],
   "source": [
    "let rec length (lst: 'a list) : int =\n",
    "  match lst with\n",
    "  | [] -> 0\n",
    "  | hd :: tl -> 1 + length tl\n",
    "\n",
    "let rotate (lst: 'a list) (k: int) : 'a list =\n",
    "  let len = length lst in\n",
    "  let rec aux k acc lst =\n",
    "    match k, lst with\n",
    "    | _, [] -> []\n",
    "    | 0, _ -> lst @ List.rev acc\n",
    "    | _, hd :: tl -> aux (k - 1) (hd :: acc) tl\n",
    "  in if k > 0 then aux k [] lst\n",
    "  else aux (len + k) [] lst"
   ]
  },
  {
   "cell_type": "code",
   "execution_count": 95,
   "metadata": {},
   "outputs": [
    {
     "data": {
      "text/plain": [
       "- : string list = [\"d\"; \"e\"; \"f\"; \"g\"; \"h\"; \"a\"; \"b\"; \"c\"]\n"
      ]
     },
     "execution_count": 95,
     "metadata": {},
     "output_type": "execute_result"
    },
    {
     "data": {
      "text/plain": [
       "- : string list = [\"g\"; \"h\"; \"a\"; \"b\"; \"c\"; \"d\"; \"e\"; \"f\"]\n"
      ]
     },
     "execution_count": 95,
     "metadata": {},
     "output_type": "execute_result"
    }
   ],
   "source": [
    "(**** Tests ****)\n",
    "\n",
    "rotate [\"a\"; \"b\"; \"c\"; \"d\"; \"e\"; \"f\"; \"g\"; \"h\"] 3;;\n",
    "(* - : string list = [\"d\"; \"e\"; \"f\"; \"g\"; \"h\"; \"a\"; \"b\"; \"c\"] *)\n",
    "rotate [\"a\"; \"b\"; \"c\"; \"d\"; \"e\"; \"f\"; \"g\"; \"h\"] (-2);;\n",
    "(* - : string list = [\"g\"; \"h\"; \"a\"; \"b\"; \"c\"; \"d\"; \"e\"; \"f\"] *)"
   ]
  },
  {
   "cell_type": "markdown",
   "metadata": {},
   "source": [
    "## Problem 20\n",
    "\n",
    "Remove the K'th element from a list. *(easy)*\n",
    "\n",
    "The first element of the list is numbered 0, the second 1,..."
   ]
  },
  {
   "cell_type": "code",
   "execution_count": 96,
   "metadata": {},
   "outputs": [
    {
     "data": {
      "text/plain": [
       "val remove_at : int -> 'a list -> 'a list = <fun>\n"
      ]
     },
     "execution_count": 96,
     "metadata": {},
     "output_type": "execute_result"
    }
   ],
   "source": [
    "let rec remove_at (i: int) (lst: 'a list) : 'a list =\n",
    "  match i, lst with\n",
    "  | _, [] -> []\n",
    "  | 0, hd :: tl -> tl\n",
    "  | _, hd :: tl -> hd :: remove_at (i - 1) tl"
   ]
  },
  {
   "cell_type": "code",
   "execution_count": 97,
   "metadata": {},
   "outputs": [
    {
     "data": {
      "text/plain": [
       "- : string list = [\"a\"; \"c\"; \"d\"]\n"
      ]
     },
     "execution_count": 97,
     "metadata": {},
     "output_type": "execute_result"
    }
   ],
   "source": [
    "(**** Tests ****)\n",
    "\n",
    "remove_at 1 [\"a\"; \"b\"; \"c\"; \"d\"];;\n",
    "(* - : string list = [\"a\"; \"c\"; \"d\"] *)"
   ]
  },
  {
   "cell_type": "markdown",
   "metadata": {},
   "source": [
    "## Problem 21\n",
    "\n",
    "Insert an element at a given position into a list. *(easy)*\n",
    "\n",
    "Start counting list elements with 0. If the position is larger or equal to the length of the list, insert the element at the end. (The behavior is unspecified if the position is negative.)"
   ]
  },
  {
   "cell_type": "code",
   "execution_count": 98,
   "metadata": {},
   "outputs": [
    {
     "data": {
      "text/plain": [
       "val insert_at : 'a -> int -> 'a list -> 'a list = <fun>\n"
      ]
     },
     "execution_count": 98,
     "metadata": {},
     "output_type": "execute_result"
    }
   ],
   "source": [
    "let rec insert_at (elm: 'a) (pos: int) (lst: 'a list) : 'a list = \n",
    "  match pos, lst with\n",
    "  | _, [] -> elm :: []\n",
    "  | 0, hd :: tl -> elm :: (hd :: tl)\n",
    "  | _, hd :: tl -> hd :: insert_at elm (pos - 1) tl\n"
   ]
  },
  {
   "cell_type": "code",
   "execution_count": 99,
   "metadata": {},
   "outputs": [
    {
     "data": {
      "text/plain": [
       "- : string list = [\"a\"; \"alfa\"; \"b\"; \"c\"; \"d\"]\n"
      ]
     },
     "execution_count": 99,
     "metadata": {},
     "output_type": "execute_result"
    },
    {
     "data": {
      "text/plain": [
       "- : string list = [\"a\"; \"b\"; \"c\"; \"alfa\"; \"d\"]\n"
      ]
     },
     "execution_count": 99,
     "metadata": {},
     "output_type": "execute_result"
    },
    {
     "data": {
      "text/plain": [
       "- : string list = [\"a\"; \"b\"; \"c\"; \"d\"; \"alfa\"]\n"
      ]
     },
     "execution_count": 99,
     "metadata": {},
     "output_type": "execute_result"
    }
   ],
   "source": [
    "(**** Tests ****)\n",
    "\n",
    "insert_at \"alfa\" 1 [\"a\"; \"b\"; \"c\"; \"d\"];;\n",
    "(* - : string list = [\"a\"; \"alfa\"; \"b\"; \"c\"; \"d\"] *)\n",
    "insert_at \"alfa\" 3 [\"a\"; \"b\"; \"c\"; \"d\"];;\n",
    "(* - : string list = [\"a\"; \"b\"; \"c\"; \"alfa\"; \"d\"] *)\n",
    "insert_at \"alfa\" 4 [\"a\"; \"b\"; \"c\"; \"d\"];;\n",
    "(* - : string list = [\"a\"; \"b\"; \"c\"; \"d\"; \"alfa\"] *)"
   ]
  },
  {
   "cell_type": "markdown",
   "metadata": {},
   "source": [
    "## Problem 22\n",
    "\n",
    "Create a list containing all integers within a given range. *(easy)*\n",
    "\n",
    "If first argument is greater than second, produce a list in decreasing order."
   ]
  },
  {
   "cell_type": "code",
   "execution_count": 100,
   "metadata": {},
   "outputs": [
    {
     "data": {
      "text/plain": [
       "val range : int -> int -> int list = <fun>\n"
      ]
     },
     "execution_count": 100,
     "metadata": {},
     "output_type": "execute_result"
    }
   ],
   "source": [
    "let rec range (i: int) (j: int) : int list =\n",
    "  if i < j then\n",
    "    i :: range (i+1) j\n",
    "  else if i > j then\n",
    "    i :: range (i-1) j\n",
    "  else\n",
    "    [j]\n",
    "  \n"
   ]
  },
  {
   "cell_type": "code",
   "execution_count": 101,
   "metadata": {},
   "outputs": [
    {
     "data": {
      "text/plain": [
       "- : int list = [4; 5; 6; 7; 8; 9]\n"
      ]
     },
     "execution_count": 101,
     "metadata": {},
     "output_type": "execute_result"
    },
    {
     "data": {
      "text/plain": [
       "- : int list = [9; 8; 7; 6; 5; 4]\n"
      ]
     },
     "execution_count": 101,
     "metadata": {},
     "output_type": "execute_result"
    }
   ],
   "source": [
    "(**** Tests ****)\n",
    "\n",
    "range 4 9;;\n",
    "(* - : int list = [4; 5; 6; 7; 8; 9] *)\n",
    "range 9 4;;\n",
    "(* - : int list = [9; 8; 7; 6; 5; 4] *)"
   ]
  },
  {
   "cell_type": "markdown",
   "metadata": {},
   "source": [
    "## Problem 23\n",
    "\n",
    "Extract a given number of randomly selected elements from a list. *(medium)*\n",
    "\n",
    "The selected items shall be returned in a list. We use the `Random` module but do not initialize it with `Random.self_init` for reproducibility."
   ]
  },
  {
   "cell_type": "code",
   "execution_count": 102,
   "metadata": {},
   "outputs": [
    {
     "name": "stderr",
     "output_type": "stream",
     "text": [
      "File \"[102]\", lines 3-5, characters 4-47:\n",
      "3 | ....match pos, lst with\n",
      "4 |     | 0, hd :: tl -> (hd, List.rev acc @ tl)\n",
      "5 |     | _, hd :: tl -> aux (pos-1) (hd :: acc) tl\n",
      "Warning 8 [partial-match]: this pattern-matching is not exhaustive.\n",
      "Here is an example of a case that is not matched:\n",
      "(_, [])\n"
     ]
    },
    {
     "data": {
      "text/plain": [
       "val remove_at : int -> 'a list -> 'a * 'a list = <fun>\n"
      ]
     },
     "execution_count": 102,
     "metadata": {},
     "output_type": "execute_result"
    },
    {
     "data": {
      "text/plain": [
       "val rand_select : 'a list -> int -> 'a list = <fun>\n"
      ]
     },
     "execution_count": 102,
     "metadata": {},
     "output_type": "execute_result"
    }
   ],
   "source": [
    "let remove_at (pos: int) (lst: 'a list) : 'a * 'a list =\n",
    "  let rec aux pos acc lst =\n",
    "    match pos, lst with\n",
    "    | 0, hd :: tl -> (hd, List.rev acc @ tl)\n",
    "    | _, hd :: tl -> aux (pos-1) (hd :: acc) tl\n",
    "  in aux pos [] lst\n",
    "\n",
    "let rec rand_select (lst: 'a list) (n: int) : 'a list =\n",
    "  (* Random.init 123;  *)\n",
    "  let i = Random.int (List.length lst) in\n",
    "  match n, lst with\n",
    "  | _, [] -> []\n",
    "  | 0, _ -> []\n",
    "  | _, hd :: tl -> (\n",
    "    let (a, new_lst) = remove_at i lst in\n",
    "    a :: rand_select new_lst (n-1))"
   ]
  },
  {
   "cell_type": "code",
   "execution_count": 103,
   "metadata": {},
   "outputs": [
    {
     "data": {
      "text/plain": [
       "- : string list = [\"c\"; \"b\"; \"d\"]\n"
      ]
     },
     "execution_count": 103,
     "metadata": {},
     "output_type": "execute_result"
    }
   ],
   "source": [
    "(**** Tests ****)\n",
    "\n",
    "rand_select [\"a\"; \"b\"; \"c\"; \"d\"; \"e\"; \"f\"; \"g\"; \"h\"] 3;;\n",
    "(* - : string list = [\"g\"; \"d\"; \"a\"] *)"
   ]
  },
  {
   "cell_type": "markdown",
   "metadata": {},
   "source": [
    "## Problem 24\n",
    "\n",
    "Lotto: Draw N different random numbers from the set 1..M. *(easy)*\n",
    "\n",
    "The selected numbers shall be returned in a list."
   ]
  },
  {
   "cell_type": "code",
   "execution_count": 104,
   "metadata": {},
   "outputs": [
    {
     "data": {
      "text/plain": [
       "val lotto_select : int -> int -> int list = <fun>\n"
      ]
     },
     "execution_count": 104,
     "metadata": {},
     "output_type": "execute_result"
    }
   ],
   "source": [
    "let lotto_select (n: int) (m: int) : int list =\n",
    "  rand_select (range 1 m) n"
   ]
  },
  {
   "cell_type": "code",
   "execution_count": 105,
   "metadata": {},
   "outputs": [
    {
     "data": {
      "text/plain": [
       "- : int list = [16; 7; 49; 28; 18; 9]\n"
      ]
     },
     "execution_count": 105,
     "metadata": {},
     "output_type": "execute_result"
    }
   ],
   "source": [
    "(**** Tests ****)\n",
    "\n",
    "lotto_select 6 49;;\n",
    "(* - : int list = [10; 20; 44; 22; 41; 2] *)"
   ]
  },
  {
   "cell_type": "markdown",
   "metadata": {},
   "source": [
    "## Problem 25\n",
    "\n",
    "Generate a random permutation of the elements of a list. *(easy)*"
   ]
  },
  {
   "cell_type": "code",
   "execution_count": 106,
   "metadata": {},
   "outputs": [
    {
     "name": "stderr",
     "output_type": "stream",
     "text": [
      "File \"[106]\", lines 3-5, characters 4-47:\n",
      "3 | ....match pos, lst with\n",
      "4 |     | 0, hd :: tl -> (hd, acc @ tl)\n",
      "5 |     | _, hd :: tl -> aux (pos-1) (hd :: acc) tl\n",
      "Warning 8 [partial-match]: this pattern-matching is not exhaustive.\n",
      "Here is an example of a case that is not matched:\n",
      "(_, [])\n"
     ]
    },
    {
     "data": {
      "text/plain": [
       "val remove_at : int -> 'a list -> 'a * 'a list = <fun>\n"
      ]
     },
     "execution_count": 106,
     "metadata": {},
     "output_type": "execute_result"
    },
    {
     "data": {
      "text/plain": [
       "val permutation : 'a list -> 'a list = <fun>\n"
      ]
     },
     "execution_count": 106,
     "metadata": {},
     "output_type": "execute_result"
    }
   ],
   "source": [
    "let remove_at (pos: int) (lst: 'a list) : 'a * 'a list =\n",
    "  let rec aux pos acc lst =\n",
    "    match pos, lst with\n",
    "    | 0, hd :: tl -> (hd, acc @ tl)\n",
    "    | _, hd :: tl -> aux (pos-1) (hd :: acc) tl\n",
    "  in aux pos [] lst\n",
    "\n",
    "let rec permutation (lst: 'a list) : 'a list = \n",
    "  if lst = [] then []\n",
    "  else begin\n",
    "    let rand_pos = Random.int (List.length lst) in\n",
    "    let (a, new_lst) = remove_at rand_pos lst in\n",
    "    a :: permutation new_lst\n",
    "  end"
   ]
  },
  {
   "cell_type": "code",
   "execution_count": 107,
   "metadata": {},
   "outputs": [
    {
     "data": {
      "text/plain": [
       "- : string list = [\"d\"; \"b\"; \"a\"; \"e\"; \"f\"; \"c\"]\n"
      ]
     },
     "execution_count": 107,
     "metadata": {},
     "output_type": "execute_result"
    }
   ],
   "source": [
    "(**** Tests ****)\n",
    "\n",
    "permutation [\"a\"; \"b\"; \"c\"; \"d\"; \"e\"; \"f\"];;\n",
    "(* - : string list = [\"a\"; \"e\"; \"f\"; \"b\"; \"d\"; \"c\"] *)"
   ]
  }
 ],
 "metadata": {
  "kernelspec": {
   "display_name": "OCaml 4.13.1",
   "language": "OCaml",
   "name": "ocaml-jupyter"
  },
  "language_info": {
   "codemirror_mode": "text/x-ocaml",
   "file_extension": ".ml",
   "mimetype": "text/x-ocaml",
   "name": "OCaml",
   "nbconverter_exporter": null,
   "pygments_lexer": "OCaml",
   "version": "4.13.1"
  },
  "orig_nbformat": 4
 },
 "nbformat": 4,
 "nbformat_minor": 2
}
