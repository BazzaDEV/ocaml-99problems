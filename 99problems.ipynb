{
 "cells": [
  {
   "cell_type": "markdown",
   "metadata": {},
   "source": [
    "# 99 Problems\n",
    "\n",
    "## Problem 1\n",
    "\n",
    "Write a function `last : 'a list -> 'a option` that returns the last element of a list. (easy)"
   ]
  },
  {
   "cell_type": "code",
   "execution_count": 1,
   "metadata": {},
   "outputs": [
    {
     "data": {
      "text/plain": [
       "val last : 'a list -> 'a option = <fun>\n"
      ]
     },
     "execution_count": 1,
     "metadata": {},
     "output_type": "execute_result"
    }
   ],
   "source": [
    "let last (lst: 'a list) : 'a option =\n",
    "  let rec aux a =\n",
    "    match a with\n",
    "      | [] -> None\n",
    "      | [x] -> Some x\n",
    "      | hd :: tl -> aux tl\n",
    "  in aux lst ;;"
   ]
  },
  {
   "cell_type": "code",
   "execution_count": 2,
   "metadata": {},
   "outputs": [
    {
     "data": {
      "text/plain": [
       "- : string option = Some \"d\"\n"
      ]
     },
     "execution_count": 2,
     "metadata": {},
     "output_type": "execute_result"
    },
    {
     "data": {
      "text/plain": [
       "- : 'a option = None\n"
      ]
     },
     "execution_count": 2,
     "metadata": {},
     "output_type": "execute_result"
    }
   ],
   "source": [
    "(**** Tests ****)\n",
    "\n",
    "last [\"a\" ; \"b\" ; \"c\" ; \"d\"];;\n",
    "(* - : string option = Some \"d\" *)\n",
    "last [];;\n",
    "(* - : 'a option = None *)"
   ]
  },
  {
   "cell_type": "markdown",
   "metadata": {},
   "source": [
    "## Problem 2\n",
    "\n",
    "Find the last but one (last and penultimate) elements of a list. (easy)"
   ]
  },
  {
   "cell_type": "code",
   "execution_count": 3,
   "metadata": {},
   "outputs": [
    {
     "data": {
      "text/plain": [
       "val last_two : 'a list -> ('a * 'a) option = <fun>\n"
      ]
     },
     "execution_count": 3,
     "metadata": {},
     "output_type": "execute_result"
    }
   ],
   "source": [
    "let last_two (lst: 'a list) : ('a * 'a) option =\n",
    "  let rec aux lst = \n",
    "    match lst with\n",
    "    | [] -> None\n",
    "    | [x] -> None\n",
    "    | x :: y :: [] -> Some (x, y)\n",
    "    | hd :: tl -> aux tl\n",
    "  in aux lst"
   ]
  },
  {
   "cell_type": "code",
   "execution_count": 4,
   "metadata": {},
   "outputs": [
    {
     "data": {
      "text/plain": [
       "- : (string * string) option = Some (\"c\", \"d\")\n"
      ]
     },
     "execution_count": 4,
     "metadata": {},
     "output_type": "execute_result"
    },
    {
     "data": {
      "text/plain": [
       "- : (string * string) option = None\n"
      ]
     },
     "execution_count": 4,
     "metadata": {},
     "output_type": "execute_result"
    }
   ],
   "source": [
    "(**** Tests ****)\n",
    "\n",
    "last_two [\"a\"; \"b\"; \"c\"; \"d\"];;\n",
    "(* - : (string * string) option = Some (\"c\", \"d\") *)\n",
    "last_two [\"a\"];;\n",
    "(* - : (string * string) option = None *)"
   ]
  },
  {
   "cell_type": "markdown",
   "metadata": {},
   "source": [
    "## Problem 3\n",
    "\n",
    "Find the K'th element of a list. (easy)"
   ]
  },
  {
   "cell_type": "code",
   "execution_count": 5,
   "metadata": {},
   "outputs": [
    {
     "data": {
      "text/plain": [
       "val at : int -> 'a list -> 'a option = <fun>\n"
      ]
     },
     "execution_count": 5,
     "metadata": {},
     "output_type": "execute_result"
    }
   ],
   "source": [
    "let at (k: int) (lst: 'a list) : 'a option =\n",
    "  let rec aux i k lst =\n",
    "    match lst with\n",
    "    | [] -> None\n",
    "    | hd :: tl -> if i = k then Some hd else aux (i+1) k tl \n",
    "  in aux 1 k lst"
   ]
  },
  {
   "cell_type": "code",
   "execution_count": 6,
   "metadata": {},
   "outputs": [
    {
     "data": {
      "text/plain": [
       "- : string option = Some \"c\"\n"
      ]
     },
     "execution_count": 6,
     "metadata": {},
     "output_type": "execute_result"
    },
    {
     "data": {
      "text/plain": [
       "- : string option = None\n"
      ]
     },
     "execution_count": 6,
     "metadata": {},
     "output_type": "execute_result"
    }
   ],
   "source": [
    "(**** Tests ****)\n",
    "\n",
    "at 3 [\"a\"; \"b\"; \"c\"; \"d\"; \"e\"];;\n",
    "(* - : string option = Some \"c\" *)\n",
    "at 3 [\"a\"];;\n",
    "(* - : string option = None *)"
   ]
  },
  {
   "cell_type": "markdown",
   "metadata": {},
   "source": [
    "## Problem 4\n",
    "\n",
    "Find the number of elements of a list. *(easy)*\n",
    "\n",
    "OCaml standard library has `List.length` but we ask that you reimplement it. Bonus for a [**tail recursive**](http://en.wikipedia.org/wiki/Tail_call) solution."
   ]
  },
  {
   "cell_type": "code",
   "execution_count": 7,
   "metadata": {},
   "outputs": [
    {
     "data": {
      "text/plain": [
       "val length : 'a list -> int = <fun>\n"
      ]
     },
     "execution_count": 7,
     "metadata": {},
     "output_type": "execute_result"
    }
   ],
   "source": [
    "let length (lst: 'a list) : int =\n",
    "  let rec aux lst =\n",
    "    match lst with\n",
    "    | [] -> 0\n",
    "    | hd :: tl -> 1 + aux tl\n",
    "  in aux lst"
   ]
  },
  {
   "cell_type": "code",
   "execution_count": 8,
   "metadata": {},
   "outputs": [
    {
     "data": {
      "text/plain": [
       "- : int = 3\n"
      ]
     },
     "execution_count": 8,
     "metadata": {},
     "output_type": "execute_result"
    },
    {
     "data": {
      "text/plain": [
       "- : int = 0\n"
      ]
     },
     "execution_count": 8,
     "metadata": {},
     "output_type": "execute_result"
    }
   ],
   "source": [
    "(**** Tests ****)\n",
    "\n",
    "length [\"a\"; \"b\"; \"c\"];;\n",
    "(* - : int = 3 *)\n",
    "length [];;\n",
    "(* - : int = 0 *)"
   ]
  }
 ],
 "metadata": {
  "kernelspec": {
   "display_name": "OCaml 4.13.1",
   "language": "OCaml",
   "name": "ocaml-jupyter"
  },
  "language_info": {
   "codemirror_mode": "text/x-ocaml",
   "file_extension": ".ml",
   "mimetype": "text/x-ocaml",
   "name": "OCaml",
   "nbconverter_exporter": null,
   "pygments_lexer": "OCaml",
   "version": "4.13.1"
  },
  "orig_nbformat": 4
 },
 "nbformat": 4,
 "nbformat_minor": 2
}
